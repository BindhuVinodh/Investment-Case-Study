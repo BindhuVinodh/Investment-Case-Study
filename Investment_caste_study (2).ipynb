{
 "cells": [
  {
   "cell_type": "code",
   "execution_count": 5,
   "metadata": {},
   "outputs": [
    {
     "data": {
      "text/plain": [
       "'C:\\\\Users\\\\bindh'"
      ]
     },
     "execution_count": 5,
     "metadata": {},
     "output_type": "execute_result"
    }
   ],
   "source": [
    "pwd\n"
   ]
  },
  {
   "cell_type": "code",
   "execution_count": 10,
   "metadata": {},
   "outputs": [
    {
     "name": "stdout",
     "output_type": "stream",
     "text": [
      "C:\\Users\\bindh\\Documents\\Data Science\\Investment Case Study\n"
     ]
    }
   ],
   "source": [
    "#Change the working directory \n",
    "cd Investment Case Study"
   ]
  },
  {
   "cell_type": "code",
   "execution_count": 11,
   "metadata": {},
   "outputs": [
    {
     "name": "stdout",
     "output_type": "stream",
     "text": [
      "['permalink', 'name', 'homepage_url', 'category_list', 'status', 'country_code', 'state_code', 'region', 'city', 'founded_at']\n",
      "0                                      /ORGANIZATION/-FAME\n",
      "1                                   /ORGANIZATION/-QOUNTER\n",
      "2                      /ORGANIZATION/-THE-ONE-OF-THEM-INC-\n",
      "3                                    /ORGANIZATION/0-6-COM\n",
      "4                           /ORGANIZATION/004-TECHNOLOGIES\n",
      "5                         /ORGANIZATION/01GAMES-TECHNOLOGY\n",
      "6                      /ORGANIZATION/0NDINE-BIOMEDICAL-INC\n",
      "7                                     /ORGANIZATION/0XDATA\n",
      "8                                          /ORGANIZATION/1\n",
      "9                                /ORGANIZATION/1-2-3-LISTO\n",
      "10                                   /ORGANIZATION/1-4-ALL\n",
      "11                          /ORGANIZATION/1-618-TECHNOLOGY\n",
      "12                             /ORGANIZATION/1-800-DENTIST\n",
      "13                             /ORGANIZATION/1-800-DOCTORS\n",
      "14                /ORGANIZATION/1-800-PUBLICRELATIONS-INC-\n",
      "15                              /ORGANIZATION/1-MAINSTREAM\n",
      "16                                   /ORGANIZATION/1-OF-99\n",
      "17                               /ORGANIZATION/10-20-MEDIA\n",
      "18                           /ORGANIZATION/10-MINUTES-WITH\n",
      "19                                /ORGANIZATION/1000-CORKS\n",
      "20                              /ORGANIZATION/1000-MARKETS\n",
      "21                                   /ORGANIZATION/1000CHI\n",
      "22                                 /ORGANIZATION/1000LOOKZ\n",
      "23                              /ORGANIZATION/1000MEMORIES\n",
      "24                           /ORGANIZATION/1000MUSEUMS-COM\n",
      "25                                /ORGANIZATION/1001-MENUS\n",
      "26                        /ORGANIZATION/1001PHARMACIES-COM\n",
      "27                                   /ORGANIZATION/1006-TV\n",
      "28                                  /ORGANIZATION/100DU-TV\n",
      "29                                  /ORGANIZATION/100E-COM\n",
      "                               ...                        \n",
      "66338                                  /ORGANIZATION/ZYKIS\n",
      "66339                         /ORGANIZATION/ZYLIE-THE-BEAR\n",
      "66340                         /ORGANIZATION/ZYLUN-STAFFING\n",
      "66341                         /ORGANIZATION/ZYME-SOLUTIONS\n",
      "66342                               /ORGANIZATION/ZYMERGEN\n",
      "66343                                /ORGANIZATION/ZYMETIS\n",
      "66344                              /ORGANIZATION/ZYMEWORKS\n",
      "66345                               /ORGANIZATION/ZYMOCHEM\n",
      "66346                                  /ORGANIZATION/ZYMPI\n",
      "66347                              /ORGANIZATION/ZYMR-INC-\n",
      "66348                                  /ORGANIZATION/ZYNCD\n",
      "66349                                 /ORGANIZATION/ZYNCRO\n",
      "66350                /ORGANIZATION/ZYNERBA-PHARMACEUTICALS\n",
      "66351              /ORGANIZATION/ZYNERGY-PROJECTS-SERVICES\n",
      "66352                                  /ORGANIZATION/ZYNGA\n",
      "66353                               /ORGANIZATION/ZYNGENIA\n",
      "66354                                /ORGANIZATION/ZYNSTRA\n",
      "66355                             /ORGANIZATION/ZYOMYX-INC\n",
      "66356                                   /ORGANIZATION/ZYPE\n",
      "66357                                 /ORGANIZATION/ZYPSEE\n",
      "66358                       /ORGANIZATION/ZYRAZ-TECHNOLOGY\n",
      "66359                                  /ORGANIZATION/ZYRRA\n",
      "66360                                 /ORGANIZATION/ZYSTOR\n",
      "66361                             /ORGANIZATION/ZYTOPROTEC\n",
      "66362                                  /ORGANIZATION/ZZISH\n",
      "66363    /ORGANIZATION/ZZNODE-SCIENCE-AND-TECHNOLOGY-CO...\n",
      "66364                            /ORGANIZATION/ZZZZAPP-COM\n",
      "66365                                 /ORGANIZATION/ÃERON\n",
      "66366                               /ORGANIZATION/ÃASYS-2\n",
      "66367    /ORGANIZATION/Ä°NOVATIFF-REKLAM-VE-TANÄ±TÄ±M-H...\n",
      "Name: permalink, Length: 66368, dtype: object\n"
     ]
    }
   ],
   "source": [
    "import pandas as pd\n",
    "#Convert the companies.txt to dataframe and encoding as latin1 - to handle non english characters\n",
    "companies = pd.read_csv('companies.txt' , sep = '\\t' , encoding = 'latin1')\n",
    "#Convert all the entries in permalink to Uppercase - to handle duplicate entries\n",
    "companies['permalink'] = companies['permalink'].str.upper();\n",
    "#Drop the duplicate entries and retain the unique entries in permalink column\n",
    "companies.drop_duplicates(keep=False,inplace=True)\n",
    "companies['permalink'].nunique()\n",
    "print(companies['permalink'])"
   ]
  },
  {
   "cell_type": "code",
   "execution_count": 12,
   "metadata": {},
   "outputs": [
    {
     "name": "stdout",
     "output_type": "stream",
     "text": [
      "0                                       /ORGANIZATION/-FAME\n",
      "1                                    /ORGANIZATION/-QOUNTER\n",
      "2                                    /ORGANIZATION/-QOUNTER\n",
      "3                       /ORGANIZATION/-THE-ONE-OF-THEM-INC-\n",
      "4                                     /ORGANIZATION/0-6-COM\n",
      "5                            /ORGANIZATION/004-TECHNOLOGIES\n",
      "6                          /ORGANIZATION/01GAMES-TECHNOLOGY\n",
      "7                       /ORGANIZATION/0NDINE-BIOMEDICAL-INC\n",
      "8                       /ORGANIZATION/0NDINE-BIOMEDICAL-INC\n",
      "9                                      /ORGANIZATION/0XDATA\n",
      "10                                     /ORGANIZATION/0XDATA\n",
      "11                                     /ORGANIZATION/0XDATA\n",
      "12                                     /ORGANIZATION/0XDATA\n",
      "13                                          /ORGANIZATION/1\n",
      "14                                          /ORGANIZATION/1\n",
      "15                                          /ORGANIZATION/1\n",
      "16                                /ORGANIZATION/1-2-3-LISTO\n",
      "17                                    /ORGANIZATION/1-4-ALL\n",
      "18                           /ORGANIZATION/1-618-TECHNOLOGY\n",
      "19                              /ORGANIZATION/1-800-DENTIST\n",
      "20                              /ORGANIZATION/1-800-DOCTORS\n",
      "21                 /ORGANIZATION/1-800-PUBLICRELATIONS-INC-\n",
      "22                               /ORGANIZATION/1-MAINSTREAM\n",
      "23                                    /ORGANIZATION/1-OF-99\n",
      "24                                /ORGANIZATION/10-20-MEDIA\n",
      "25                                /ORGANIZATION/10-20-MEDIA\n",
      "26                                /ORGANIZATION/10-20-MEDIA\n",
      "27                                /ORGANIZATION/10-20-MEDIA\n",
      "28                            /ORGANIZATION/10-MINUTES-WITH\n",
      "29                            /ORGANIZATION/10-MINUTES-WITH\n",
      "                                ...                        \n",
      "114919                                /ORGANIZATION/ZYNSTRA\n",
      "114920                             /ORGANIZATION/ZYOMYX-INC\n",
      "114921                             /ORGANIZATION/ZYOMYX-INC\n",
      "114922                             /ORGANIZATION/ZYOMYX-INC\n",
      "114923                             /ORGANIZATION/ZYOMYX-INC\n",
      "114924                                   /ORGANIZATION/ZYPE\n",
      "114925                                   /ORGANIZATION/ZYPE\n",
      "114926                                 /ORGANIZATION/ZYPSEE\n",
      "114927                                 /ORGANIZATION/ZYPSEE\n",
      "114928                       /ORGANIZATION/ZYRAZ-TECHNOLOGY\n",
      "114929                       /ORGANIZATION/ZYRAZ-TECHNOLOGY\n",
      "114930                       /ORGANIZATION/ZYRAZ-TECHNOLOGY\n",
      "114931                       /ORGANIZATION/ZYRAZ-TECHNOLOGY\n",
      "114932                                  /ORGANIZATION/ZYRRA\n",
      "114933                                  /ORGANIZATION/ZYRRA\n",
      "114934                                  /ORGANIZATION/ZYRRA\n",
      "114935                                  /ORGANIZATION/ZYRRA\n",
      "114936                                 /ORGANIZATION/ZYSTOR\n",
      "114937                             /ORGANIZATION/ZYTOPROTEC\n",
      "114938                                  /ORGANIZATION/ZZISH\n",
      "114939                                  /ORGANIZATION/ZZISH\n",
      "114940                                  /ORGANIZATION/ZZISH\n",
      "114941    /ORGANIZATION/ZZNODE-SCIENCE-AND-TECHNOLOGY-CO...\n",
      "114942                            /ORGANIZATION/ZZZZAPP-COM\n",
      "114943                            /ORGANIZATION/ZZZZAPP-COM\n",
      "114944                            /ORGANIZATION/ZZZZAPP-COM\n",
      "114945                            /ORGANIZATION/ZZZZAPP-COM\n",
      "114946                                 /ORGANIZATION/ÃERON\n",
      "114947                               /ORGANIZATION/ÃASYS-2\n",
      "114948    /ORGANIZATION/Ä°NOVATIFF-REKLAM-VE-TANÄ±TÄ±M-H...\n",
      "Name: permalink, Length: 114949, dtype: object\n"
     ]
    }
   ],
   "source": [
    "import pandas as pd\n",
    "#Convert the csv to dataframe and encode with latin1 to handle non english entries\n",
    "rounds2 = pd.read_csv('rounds2.csv' , encoding = 'latin1')\n",
    "#convert the company_permalink entries to uppercase to get rid if duplicate entries\n",
    "rounds2['company_permalink'] = rounds2['company_permalink'].str.upper();\n",
    "#Rename the column \"company_permalink\" to \"permalink\" to sync with companies dataframe\n",
    "rounds2.rename(columns={'company_permalink':'permalink'}, inplace=True)\n",
    "#Drop the duplicate entries and retain only the unique entries in permalink column\n",
    "rounds2.drop_duplicates(keep=False,inplace=True)\n",
    "rounds2['permalink'].nunique()\n",
    "print(rounds2['permalink'])"
   ]
  },
  {
   "cell_type": "code",
   "execution_count": 15,
   "metadata": {},
   "outputs": [
    {
     "data": {
      "text/plain": [
       "114954"
      ]
     },
     "execution_count": 15,
     "metadata": {},
     "output_type": "execute_result"
    }
   ],
   "source": [
    "#Create a master_frame dataframe by merging (outer join) 2 dataframes- companies and rounds2 with \"permalink\" as a connecting column\n",
    "master_frame = pd.merge(companies,rounds2 , how = 'outer' , on = 'permalink')\n",
    "master_frame['permalink'] = master_frame['permalink'].str.upper();\n",
    "#Drop the duplicate entries\n",
    "master_frame.drop_duplicates(keep=False,inplace=True)\n",
    "master_frame['permalink'].nunique\n",
    "len(master_frame)\n",
    "\n"
   ]
  },
  {
   "cell_type": "code",
   "execution_count": 16,
   "metadata": {},
   "outputs": [
    {
     "name": "stdout",
     "output_type": "stream",
     "text": [
      "11748949.129489528\n",
      "958694.4697530865\n",
      "719817.9969071728\n",
      "73308593.02944215\n"
     ]
    }
   ],
   "source": [
    "# Calculate the avergae funding received in funding categories-  Venture , Angel , Seed and Equity\n",
    "venture = master_frame[master_frame['funding_round_type'] == 'venture']\n",
    "angel = master_frame[master_frame['funding_round_type'] == 'angel']\n",
    "seed = master_frame[master_frame['funding_round_type'] == 'seed']\n",
    "equity = master_frame[master_frame['funding_round_type'] == 'private_equity']\n",
    "print(venture['raised_amount_usd'].mean())\n",
    "print(angel['raised_amount_usd'].mean())\n",
    "print(seed['raised_amount_usd'].mean())\n",
    "print(equity['raised_amount_usd'].mean())\n"
   ]
  },
  {
   "cell_type": "code",
   "execution_count": null,
   "metadata": {},
   "outputs": [],
   "source": []
  },
  {
   "cell_type": "raw",
   "metadata": {},
   "source": [
    "print(list(venture))"
   ]
  },
  {
   "cell_type": "code",
   "execution_count": null,
   "metadata": {},
   "outputs": [],
   "source": [
    "#Top 9 Countries based on maximum fund received in venture category\n",
    "top9 = venture.groupby(['country_code']).sum().sort_values('raised_amount_usd',ascending=False).head(9)\n",
    "print(top9)\n",
    "\n",
    "#Total funding received in Country of USA in funding category- Venture\n",
    "USA_venture = venture[venture['country_code'] == 'USA']\n",
    "ans1 = (USA_venture[USA_venture['raised_amount_usd'] > 5000000]) \n",
    "final = ans1[ans1['raised_amount_usd'] < 15000000]\n",
    "final['raised_amount_usd'].sum()\n",
    "\n",
    "#Total funding received in Country of GBR in funding category- Venture\n",
    "GBR_venture = venture[venture['country_code'] == 'GBR']\n",
    "ans1 = (GBR_venture[GBR_venture['raised_amount_usd'] > 5000000]) \n",
    "final = ans1[ans1['raised_amount_usd'] < 15000000]\n",
    "final['raised_amount_usd'].sum()\n",
    "\n",
    "\n",
    "#Total funding received in Country of IND in funding category- Venture\n",
    "IND_venture = venture[venture['country_code'] == 'IND']\n",
    "ans1 = (IND_venture[IND_venture['raised_amount_usd'] > 5000000]) \n",
    "final = ans1[ans1['raised_amount_usd'] < 15000000]\n",
    "final['raised_amount_usd'].sum()\n",
    "\n",
    "\n"
   ]
  },
  {
   "cell_type": "code",
   "execution_count": 17,
   "metadata": {},
   "outputs": [
    {
     "name": "stdout",
     "output_type": "stream",
     "text": [
      "['category_list', 'Automotive & Sports', 'Blanks', 'Cleantech / Semiconductors', 'Entertainment', 'Health', 'Manufacturing', 'News, Search and Messaging', 'Others', 'Social, Finance, Analytics, Advertising']\n"
     ]
    }
   ],
   "source": [
    "#Convert the mapping.csv to dataframe\n",
    "mapping = pd.read_csv('mapping.csv')\n",
    "print(list(mapping))"
   ]
  },
  {
   "cell_type": "code",
   "execution_count": null,
   "metadata": {},
   "outputs": [],
   "source": [
    "#Function to extract the primary_sector and add it to master_frame\n",
    "\n",
    "def get_primary_sector(x):\n",
    "    if isinstance(x, str):\n",
    "        return x.split('|')[0]\n",
    "    else:\n",
    "        return \"\" \n",
    "master_frame['primary_sector'] = master_frame['category_list'].apply(get_primary_sector)\n"
   ]
  },
  {
   "cell_type": "code",
   "execution_count": 25,
   "metadata": {},
   "outputs": [
    {
     "name": "stdout",
     "output_type": "stream",
     "text": [
      "2233\n"
     ]
    }
   ],
   "source": [
    "#Find number of investments in venture funded in 5 to 15 million in USA , GBR and IND\n",
    "\n",
    "US_companies = master_frame[master_frame['country_code'] == 'USA']\n",
    "print(len(US_companies))\n",
    "\n",
    "GBR_companies = master_frame[master_frame['country_code'] == 'GBR']\n",
    "print(len(GBR_companies))\n",
    "\n",
    "IND_companies = master_frame[master_frame['country_code'] == 'IND']\n",
    "print(len(IND_companies))\n"
   ]
  },
  {
   "cell_type": "code",
   "execution_count": 122,
   "metadata": {},
   "outputs": [
    {
     "name": "stdout",
     "output_type": "stream",
     "text": [
      "103396\n"
     ]
    }
   ],
   "source": [
    "#Using melt function to change the shape of mapping dataframe\n",
    "d = {'category' : mapping['category_list'] , 'Automotive & Sports' : mapping['Automotive & Sports'] , 'Blanks': mapping['Blanks'], 'Semiconductors' : mapping['Cleantech / Semiconductors'], 'Entertainment' :mapping['Entertainment'] , 'Health' : mapping['Health'], 'Manufacturing' : mapping['Manufacturing']  , 'News' : mapping['News, Search and Messaging'], 'Others' : mapping['Others'] , 'Analytics' : mapping['Social, Finance, Analytics, Advertising']}\n",
    "df = pd.DataFrame(data=d)\n",
    "df = df.drop(df[df.Blanks != 0].index)\n",
    "df = pd.melt(df, id_vars=['category'], value_vars=['Automotive & Sports', 'Blanks' , 'Semiconductors' , 'Entertainment' , 'Health' , 'Manufacturing' , 'News' , 'Others' , 'Analytics'])#Drop null values\n",
    "df = df[df.value != 0]\n",
    "#print(df)\n",
    "#print(df[['variable']])\n",
    "#print(Others)\n",
    "#Merge master_frame with variable column in mapping dataframe - based on columns \"primary_sector\" and \"variable\"\n",
    "result = pd.merge(master_frame , df , left_on = 'primary_sector' , right_on = 'category')\n",
    "\n",
    "print(len(result))"
   ]
  },
  {
   "cell_type": "code",
   "execution_count": 189,
   "metadata": {
    "scrolled": true
   },
   "outputs": [
    {
     "name": "stdout",
     "output_type": "stream",
     "text": [
      "512 list\n"
     ]
    }
   ],
   "source": [
    "#Top 3 sectors of investments in USA , GBR and IND \n",
    "\n",
    "#No of investments in USA in 5 to 15 million\n",
    "result_US = result[result['country_code'] == 'USA']\n",
    "result_US = result_US[result_US['raised_amount_usd'] > 5000000]\n",
    "\n",
    "result_US = result_US[result_US['raised_amount_usd'] < 15000000]\n",
    "\n",
    "result_GB = result[result['country_code'] == 'GBR']\n",
    "result_GB = result_GB[result_GB['raised_amount_usd'] > 5000000]\n",
    "result_GB = result_GB[result_GB['raised_amount_usd'] < 15000000]\n",
    "#print(len(result_GB))\n",
    "#result_GB.variable.unique()\n",
    "\n",
    "result_IN = result[result['country_code'] == 'IND']\n",
    "result_IN = result_IN[result_IN['raised_amount_usd'] > 5000000]\n",
    "result_IN = result_IN[result_IN['raised_amount_usd'] < 15000000]\n",
    "\n",
    "#Total amount of investment\n",
    "tot_invest_US = result_US['raised_amount_usd'].sum()\n",
    "print(tot_invest_US , \"total investment USA\")\n",
    "\n",
    "tot_invest_GB = result_GB['raised_amount_usd'].sum()\n",
    "\n",
    "print(tot_invest_GB , \"total investment GBR\")\n",
    "\n",
    "tot_invest_IN = result_IN['raised_amount_usd'].sum()\n",
    "\n",
    "print(tot_invest_IN , \"total investment IND\")\n",
    "\n",
    "\n",
    "#Find the top 3 sectors which received maximum investment using idmas()\n",
    "Sector_US  = result_US[result_US['variable'] == 'Entertainment' ]\n",
    "print(len(Sector_US), \"list\")\n",
    "print(Sector_US.loc[Sector_US['raised_amount_usd'].idxmax()])\n",
    "\n",
    "Sector_GB  = result_GB[result_GB['variable'] == 'Others' ]\n",
    "print(len(Sector_GB))\n",
    "#print(Sector_GB.loc[Sector_GB['raised_amount_usd'].idxmax()])\n",
    "\n",
    "Sector_IN  = result_IN[result_IN['variable'] == 'News' ]\n",
    "print(Sector_IN.loc[Sector_IN['raised_amount_usd'].idxmax()])\n",
    "\n"
   ]
  },
  {
   "cell_type": "code",
   "execution_count": null,
   "metadata": {},
   "outputs": [],
   "source": []
  }
 ],
 "metadata": {
  "kernelspec": {
   "display_name": "Python 3",
   "language": "python",
   "name": "python3"
  },
  "language_info": {
   "codemirror_mode": {
    "name": "ipython",
    "version": 3
   },
   "file_extension": ".py",
   "mimetype": "text/x-python",
   "name": "python",
   "nbconvert_exporter": "python",
   "pygments_lexer": "ipython3",
   "version": "3.7.0"
  }
 },
 "nbformat": 4,
 "nbformat_minor": 2
}
